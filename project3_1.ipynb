{
 "cells": [
  {
   "cell_type": "markdown",
   "metadata": {},
   "source": [
    "# Project 3\n",
    "\n",
    "### Regression and Classification with the Ames Housing Data\n",
    "\n",
    "---\n",
    "\n",
    "You have just joined a new \"full stack\" real estate company in Ames, Iowa. The strategy of the firm is two-fold:\n",
    "- Own the entire process from the purchase of the land all the way to sale of the house, and anything in between.\n",
    "- Use statistical analysis to optimize investment and maximize return.\n",
    "\n",
    "The company is still small, and though investment is substantial the short-term goals of the company are more oriented towards purchasing existing houses and flipping them as opposed to constructing entirely new houses. That being said, the company has access to a large construction workforce operating at rock-bottom prices.\n",
    "\n",
    "This project uses the [Ames housing data recently made available on kaggle](https://www.kaggle.com/c/house-prices-advanced-regression-techniques).\n",
    "\n",
    "1. Estimating the value of homes from fixed characteristics.\n",
    "Your superiors have outlined this year's strategy for the company:\n",
    "\n",
    "Develop an algorithm to reliably estimate the value of residential houses based on fixed characteristics.\n",
    "Identify characteristics of houses that the company can cost-effectively change/renovate with their construction team.\n",
    "Evaluate the mean dollar value of different renovations.\n",
    "Then we can use that to buy houses that are likely to sell for more than the cost of the purchase plus renovations.\n",
    "\n",
    "Your first job is to tackle #1. You have a dataset of housing sale data with a huge amount of features identifying different aspects of the house. The full description of the data features can be found in a separate file:\n",
    "\n",
    "housing.csv\n",
    "data_description.txt\n",
    "You need to build a reliable estimator for the price of the house given characteristics of the house that cannot be renovated. Some examples include:\n",
    "\n",
    "The neighborhood\n",
    "Square feet\n",
    "Bedrooms, bathrooms\n",
    "Basement and garage space\n",
    "and many more.\n",
    "\n",
    "Some examples of things that ARE renovate-able:\n",
    "\n",
    "Roof and exterior features\n",
    "\"Quality\" metrics, such as kitchen quality\n",
    "\"Condition\" metrics, such as condition of garage\n",
    "Heating and electrical components\n",
    "and generally anything you deem can be modified without having to undergo major construction on the house.\n",
    "\n",
    "Your goals:\n",
    "\n",
    "1. Perform any cleaning, feature engineering, and EDA you deem necessary.\n",
    "2. Be sure to remove any houses that are not residential from the dataset.\n",
    "3. Identify fixed features that can predict price.\n",
    "4. Train a model on pre-2010 data and evaluate its performance on the 2010 houses.\n",
    "5. Characterize your model. How well does it perform? What are the best estimates of price?\n"
   ]
  },
  {
   "cell_type": "markdown",
   "metadata": {},
   "source": []
  },
  {
   "cell_type": "code",
   "execution_count": 1,
   "metadata": {
    "collapsed": true
   },
   "outputs": [],
   "source": [
    "import numpy as np\n",
    "import scipy.stats as stats\n",
    "import seaborn as sns\n",
    "import matplotlib.pyplot as plt\n",
    "import pandas as pd\n",
    "\n",
    "sns.set_style('whitegrid')\n",
    "\n",
    "%config InlineBackend.figure_format = 'retina'\n",
    "%matplotlib inline"
   ]
  },
  {
   "cell_type": "code",
   "execution_count": 2,
   "metadata": {
    "collapsed": true
   },
   "outputs": [],
   "source": [
    "# Load data\n",
    "house = pd.read_csv('./housing.csv')\n",
    "\n",
    "# Convert column names to lowercase\n",
    "house.columns=[x.lower() for x in house.columns]\n"
   ]
  },
  {
   "cell_type": "code",
   "execution_count": 3,
   "metadata": {},
   "outputs": [
    {
     "data": {
      "text/plain": [
       "RL    1151\n",
       "RM     218\n",
       "FV      65\n",
       "RH      16\n",
       "Name: mszoning, dtype: int64"
      ]
     },
     "execution_count": 3,
     "metadata": {},
     "output_type": "execute_result"
    }
   ],
   "source": [
    "'''\n",
    "MSZoning: Identifies the general zoning classification of the sale.\n",
    "\t\t\n",
    "       A\tAgriculture\n",
    "       C\tCommercial\n",
    "       FV\tFloating Village Residential\n",
    "       I\tIndustrial\n",
    "       RH\tResidential High Density\n",
    "       RL\tResidential Low Density\n",
    "       RP\tResidential Low Density Park \n",
    "       RM\tResidential Medium Density\n",
    "\t\n",
    "'''\n",
    "# filter only residential from mszoning\n",
    "commercial_zoning = ['A','C (all)','I']\n",
    "house = house[~house['mszoning'].isin(commercial_zoning)]\n",
    "house['mszoning'].value_counts() #check to ensure only residential remain"
   ]
  },
  {
   "cell_type": "markdown",
   "metadata": {},
   "source": [
    "## Check for missing data and fill in"
   ]
  },
  {
   "cell_type": "code",
   "execution_count": 4,
   "metadata": {},
   "outputs": [
    {
     "data": {
      "text/html": [
       "<div>\n",
       "<style>\n",
       "    .dataframe thead tr:only-child th {\n",
       "        text-align: right;\n",
       "    }\n",
       "\n",
       "    .dataframe thead th {\n",
       "        text-align: left;\n",
       "    }\n",
       "\n",
       "    .dataframe tbody tr th {\n",
       "        vertical-align: top;\n",
       "    }\n",
       "</style>\n",
       "<table border=\"1\" class=\"dataframe\">\n",
       "  <thead>\n",
       "    <tr style=\"text-align: right;\">\n",
       "      <th></th>\n",
       "      <th>lotfrontage</th>\n",
       "      <th>alley</th>\n",
       "      <th>masvnrtype</th>\n",
       "      <th>masvnrarea</th>\n",
       "      <th>bsmtqual</th>\n",
       "      <th>bsmtcond</th>\n",
       "      <th>bsmtexposure</th>\n",
       "      <th>bsmtfintype1</th>\n",
       "      <th>bsmtfintype2</th>\n",
       "      <th>electrical</th>\n",
       "      <th>fireplacequ</th>\n",
       "      <th>garagetype</th>\n",
       "      <th>garageyrblt</th>\n",
       "      <th>garagefinish</th>\n",
       "      <th>garagequal</th>\n",
       "      <th>garagecond</th>\n",
       "      <th>poolqc</th>\n",
       "      <th>fence</th>\n",
       "      <th>miscfeature</th>\n",
       "    </tr>\n",
       "  </thead>\n",
       "  <tbody>\n",
       "    <tr>\n",
       "      <th>0</th>\n",
       "      <td>65.0</td>\n",
       "      <td>NaN</td>\n",
       "      <td>BrkFace</td>\n",
       "      <td>196.0</td>\n",
       "      <td>Gd</td>\n",
       "      <td>TA</td>\n",
       "      <td>No</td>\n",
       "      <td>GLQ</td>\n",
       "      <td>Unf</td>\n",
       "      <td>SBrkr</td>\n",
       "      <td>NaN</td>\n",
       "      <td>Attchd</td>\n",
       "      <td>2003.0</td>\n",
       "      <td>RFn</td>\n",
       "      <td>TA</td>\n",
       "      <td>TA</td>\n",
       "      <td>NaN</td>\n",
       "      <td>NaN</td>\n",
       "      <td>NaN</td>\n",
       "    </tr>\n",
       "    <tr>\n",
       "      <th>1</th>\n",
       "      <td>80.0</td>\n",
       "      <td>NaN</td>\n",
       "      <td>None</td>\n",
       "      <td>0.0</td>\n",
       "      <td>Gd</td>\n",
       "      <td>TA</td>\n",
       "      <td>Gd</td>\n",
       "      <td>ALQ</td>\n",
       "      <td>Unf</td>\n",
       "      <td>SBrkr</td>\n",
       "      <td>TA</td>\n",
       "      <td>Attchd</td>\n",
       "      <td>1976.0</td>\n",
       "      <td>RFn</td>\n",
       "      <td>TA</td>\n",
       "      <td>TA</td>\n",
       "      <td>NaN</td>\n",
       "      <td>NaN</td>\n",
       "      <td>NaN</td>\n",
       "    </tr>\n",
       "    <tr>\n",
       "      <th>2</th>\n",
       "      <td>68.0</td>\n",
       "      <td>NaN</td>\n",
       "      <td>BrkFace</td>\n",
       "      <td>162.0</td>\n",
       "      <td>Gd</td>\n",
       "      <td>TA</td>\n",
       "      <td>Mn</td>\n",
       "      <td>GLQ</td>\n",
       "      <td>Unf</td>\n",
       "      <td>SBrkr</td>\n",
       "      <td>TA</td>\n",
       "      <td>Attchd</td>\n",
       "      <td>2001.0</td>\n",
       "      <td>RFn</td>\n",
       "      <td>TA</td>\n",
       "      <td>TA</td>\n",
       "      <td>NaN</td>\n",
       "      <td>NaN</td>\n",
       "      <td>NaN</td>\n",
       "    </tr>\n",
       "    <tr>\n",
       "      <th>3</th>\n",
       "      <td>60.0</td>\n",
       "      <td>NaN</td>\n",
       "      <td>None</td>\n",
       "      <td>0.0</td>\n",
       "      <td>TA</td>\n",
       "      <td>Gd</td>\n",
       "      <td>No</td>\n",
       "      <td>ALQ</td>\n",
       "      <td>Unf</td>\n",
       "      <td>SBrkr</td>\n",
       "      <td>Gd</td>\n",
       "      <td>Detchd</td>\n",
       "      <td>1998.0</td>\n",
       "      <td>Unf</td>\n",
       "      <td>TA</td>\n",
       "      <td>TA</td>\n",
       "      <td>NaN</td>\n",
       "      <td>NaN</td>\n",
       "      <td>NaN</td>\n",
       "    </tr>\n",
       "    <tr>\n",
       "      <th>4</th>\n",
       "      <td>84.0</td>\n",
       "      <td>NaN</td>\n",
       "      <td>BrkFace</td>\n",
       "      <td>350.0</td>\n",
       "      <td>Gd</td>\n",
       "      <td>TA</td>\n",
       "      <td>Av</td>\n",
       "      <td>GLQ</td>\n",
       "      <td>Unf</td>\n",
       "      <td>SBrkr</td>\n",
       "      <td>TA</td>\n",
       "      <td>Attchd</td>\n",
       "      <td>2000.0</td>\n",
       "      <td>RFn</td>\n",
       "      <td>TA</td>\n",
       "      <td>TA</td>\n",
       "      <td>NaN</td>\n",
       "      <td>NaN</td>\n",
       "      <td>NaN</td>\n",
       "    </tr>\n",
       "  </tbody>\n",
       "</table>\n",
       "</div>"
      ],
      "text/plain": [
       "   lotfrontage alley masvnrtype  masvnrarea bsmtqual bsmtcond bsmtexposure  \\\n",
       "0         65.0   NaN    BrkFace       196.0       Gd       TA           No   \n",
       "1         80.0   NaN       None         0.0       Gd       TA           Gd   \n",
       "2         68.0   NaN    BrkFace       162.0       Gd       TA           Mn   \n",
       "3         60.0   NaN       None         0.0       TA       Gd           No   \n",
       "4         84.0   NaN    BrkFace       350.0       Gd       TA           Av   \n",
       "\n",
       "  bsmtfintype1 bsmtfintype2 electrical fireplacequ garagetype  garageyrblt  \\\n",
       "0          GLQ          Unf      SBrkr         NaN     Attchd       2003.0   \n",
       "1          ALQ          Unf      SBrkr          TA     Attchd       1976.0   \n",
       "2          GLQ          Unf      SBrkr          TA     Attchd       2001.0   \n",
       "3          ALQ          Unf      SBrkr          Gd     Detchd       1998.0   \n",
       "4          GLQ          Unf      SBrkr          TA     Attchd       2000.0   \n",
       "\n",
       "  garagefinish garagequal garagecond poolqc fence miscfeature  \n",
       "0          RFn         TA         TA    NaN   NaN         NaN  \n",
       "1          RFn         TA         TA    NaN   NaN         NaN  \n",
       "2          RFn         TA         TA    NaN   NaN         NaN  \n",
       "3          Unf         TA         TA    NaN   NaN         NaN  \n",
       "4          RFn         TA         TA    NaN   NaN         NaN  "
      ]
     },
     "execution_count": 4,
     "metadata": {},
     "output_type": "execute_result"
    }
   ],
   "source": [
    "house.loc[:,pd.isnull(house).any()].head(5)"
   ]
  },
  {
   "cell_type": "code",
   "execution_count": 5,
   "metadata": {},
   "outputs": [
    {
     "name": "stdout",
     "output_type": "stream",
     "text": [
      "count    1191.000000\n",
      "mean       70.052897\n",
      "std        24.301013\n",
      "min        21.000000\n",
      "25%        59.000000\n",
      "50%        70.000000\n",
      "75%        80.000000\n",
      "max       313.000000\n",
      "Name: lotfrontage, dtype: float64\n"
     ]
    }
   ],
   "source": [
    "# fillna LotFrontage: Linear feet of street connected to property\n",
    "print house['lotfrontage'].describe()\n",
    "\n",
    "# Decision: fillna with mean \n",
    "house['lotfrontage'] = house['lotfrontage'].fillna(house['lotfrontage'].mean())\n",
    "\n"
   ]
  },
  {
   "cell_type": "code",
   "execution_count": 6,
   "metadata": {},
   "outputs": [
    {
     "name": "stdout",
     "output_type": "stream",
     "text": [
      "Grvl    50\n",
      "Pave    39\n",
      "Name: alley, dtype: int64\n"
     ]
    }
   ],
   "source": [
    "# fillna 'alley'\n",
    "print house['alley'].value_counts()\n",
    "# since there are only 89 filled rows vs total 1450, drop alley\n",
    " \n",
    "house = house.drop(['alley'],axis =1)"
   ]
  },
  {
   "cell_type": "code",
   "execution_count": 7,
   "metadata": {
    "collapsed": true
   },
   "outputs": [],
   "source": [
    "#likewise 'masvnrtype' MasVnrType: Masonry veneer type\n",
    "house = house.drop(['masvnrtype'],axis =1)"
   ]
  },
  {
   "cell_type": "code",
   "execution_count": 8,
   "metadata": {},
   "outputs": [
    {
     "name": "stdout",
     "output_type": "stream",
     "text": [
      "count    1442.000000\n",
      "mean      104.404300\n",
      "std       181.486539\n",
      "min         0.000000\n",
      "25%         0.000000\n",
      "50%         0.000000\n",
      "75%       166.750000\n",
      "max      1600.000000\n",
      "Name: masvnrarea, dtype: float64\n"
     ]
    },
    {
     "data": {
      "text/plain": [
       "<matplotlib.axes._subplots.AxesSubplot at 0xecae278>"
      ]
     },
     "execution_count": 8,
     "metadata": {},
     "output_type": "execute_result"
    },
    {
     "data": {
      "image/png": "[encoded data removed]",
      "text/plain": [
       "<matplotlib.figure.Figure at 0xec56048>"
      ]
     },
     "metadata": {
      "image/png": {
       "height": 244,
       "width": 388
      }
     },
     "output_type": "display_data"
    }
   ],
   "source": [
    "# Treatment of masvnrarea: Masonry veneer area in square feet\n",
    "print house['masvnrarea'].describe()\n",
    "house['masvnrarea'].plot(kind='hist') # unusual stats"
   ]
  },
  {
   "cell_type": "code",
   "execution_count": 9,
   "metadata": {
    "collapsed": true
   },
   "outputs": [],
   "source": [
    "# decision to drop as fillna may not be meaningful\n",
    "house = house.drop(['masvnrarea'],axis =1)"
   ]
  },
  {
   "cell_type": "code",
   "execution_count": 10,
   "metadata": {},
   "outputs": [
    {
     "data": {
      "text/html": [
       "<div>\n",
       "<style>\n",
       "    .dataframe thead tr:only-child th {\n",
       "        text-align: right;\n",
       "    }\n",
       "\n",
       "    .dataframe thead th {\n",
       "        text-align: left;\n",
       "    }\n",
       "\n",
       "    .dataframe tbody tr th {\n",
       "        vertical-align: top;\n",
       "    }\n",
       "</style>\n",
       "<table border=\"1\" class=\"dataframe\">\n",
       "  <thead>\n",
       "    <tr style=\"text-align: right;\">\n",
       "      <th>bsmtqual</th>\n",
       "      <th>Ex</th>\n",
       "      <th>Fa</th>\n",
       "      <th>Gd</th>\n",
       "      <th>No</th>\n",
       "      <th>TA</th>\n",
       "    </tr>\n",
       "    <tr>\n",
       "      <th>housestyle</th>\n",
       "      <th></th>\n",
       "      <th></th>\n",
       "      <th></th>\n",
       "      <th></th>\n",
       "      <th></th>\n",
       "    </tr>\n",
       "  </thead>\n",
       "  <tbody>\n",
       "    <tr>\n",
       "      <th>1.5Fin</th>\n",
       "      <td>1</td>\n",
       "      <td>8</td>\n",
       "      <td>19</td>\n",
       "      <td>5</td>\n",
       "      <td>117</td>\n",
       "    </tr>\n",
       "    <tr>\n",
       "      <th>1.5Unf</th>\n",
       "      <td>0</td>\n",
       "      <td>1</td>\n",
       "      <td>0</td>\n",
       "      <td>0</td>\n",
       "      <td>13</td>\n",
       "    </tr>\n",
       "    <tr>\n",
       "      <th>1Story</th>\n",
       "      <td>76</td>\n",
       "      <td>15</td>\n",
       "      <td>273</td>\n",
       "      <td>27</td>\n",
       "      <td>331</td>\n",
       "    </tr>\n",
       "    <tr>\n",
       "      <th>2.5Fin</th>\n",
       "      <td>1</td>\n",
       "      <td>0</td>\n",
       "      <td>0</td>\n",
       "      <td>0</td>\n",
       "      <td>7</td>\n",
       "    </tr>\n",
       "    <tr>\n",
       "      <th>2.5Unf</th>\n",
       "      <td>0</td>\n",
       "      <td>0</td>\n",
       "      <td>2</td>\n",
       "      <td>0</td>\n",
       "      <td>8</td>\n",
       "    </tr>\n",
       "    <tr>\n",
       "      <th>2Story</th>\n",
       "      <td>42</td>\n",
       "      <td>11</td>\n",
       "      <td>267</td>\n",
       "      <td>4</td>\n",
       "      <td>120</td>\n",
       "    </tr>\n",
       "    <tr>\n",
       "      <th>SFoyer</th>\n",
       "      <td>0</td>\n",
       "      <td>0</td>\n",
       "      <td>28</td>\n",
       "      <td>1</td>\n",
       "      <td>8</td>\n",
       "    </tr>\n",
       "    <tr>\n",
       "      <th>SLvl</th>\n",
       "      <td>1</td>\n",
       "      <td>0</td>\n",
       "      <td>29</td>\n",
       "      <td>0</td>\n",
       "      <td>35</td>\n",
       "    </tr>\n",
       "  </tbody>\n",
       "</table>\n",
       "</div>"
      ],
      "text/plain": [
       "bsmtqual    Ex  Fa   Gd  No   TA\n",
       "housestyle                      \n",
       "1.5Fin       1   8   19   5  117\n",
       "1.5Unf       0   1    0   0   13\n",
       "1Story      76  15  273  27  331\n",
       "2.5Fin       1   0    0   0    7\n",
       "2.5Unf       0   0    2   0    8\n",
       "2Story      42  11  267   4  120\n",
       "SFoyer       0   0   28   1    8\n",
       "SLvl         1   0   29   0   35"
      ]
     },
     "execution_count": 10,
     "metadata": {},
     "output_type": "execute_result"
    }
   ],
   "source": [
    "'''\n",
    "bsmtqual evaluates basement height (Ex, Gd, TA, Fa, Po, NA)\n",
    "NA means no basement, not null value\n",
    "replace NA with No\n",
    "'''\n",
    "house['bsmtqual'] = house['bsmtqual'].fillna('No')\n",
    "house['bsmtcond'] = house['bsmtcond'].fillna('No')\n",
    "house['bsmtexposure'] = house['bsmtexposure'].fillna('No')\n",
    "house['bsmtfintype1'] = house['bsmtfintype1'].fillna('No')\n",
    "house['bsmtfintype2'] = house['bsmtfintype2'].fillna('No')\n",
    "house['fireplacequ'] = house['fireplacequ'].fillna('No')\n",
    "\n",
    "#garagetype fillna with No, and drop garageyrblt as this field is assumed to be the same as age of house or yrbuilt\n",
    "house['garagetype'] = house['garagetype'].fillna('No')\n",
    "house = house.drop(['garageyrblt'],axis =1)\n",
    "house['garagefinish'] = house['garagefinish'].fillna('No')\n",
    "house['garagequal'] = house['garagequal'].fillna('No')\n",
    "house['garagecond'] = house['garagecond'].fillna('No')\n",
    "\n",
    "house['poolqc'] = house['poolqc'].fillna('No')\n",
    "\n",
    "house['fence'] = house['fence'].fillna('No')\n",
    "house['miscfeature'] = house['miscfeature'].fillna('No')\n",
    "pd.crosstab(house.housestyle,house.bsmtqual)"
   ]
  },
  {
   "cell_type": "code",
   "execution_count": 11,
   "metadata": {},
   "outputs": [
    {
     "name": "stdout",
     "output_type": "stream",
     "text": [
      "SBrkr    1328\n",
      "FuseA      90\n",
      "FuseF      27\n",
      "FuseP       3\n",
      "Mix         1\n",
      "Name: electrical, dtype: int64\n"
     ]
    }
   ],
   "source": [
    "# electrical \n",
    "\n",
    "print house['electrical'].value_counts()\n",
    "house['electrical'] = house['electrical'].fillna('SBrkr') # SBrkr is the most common type"
   ]
  },
  {
   "cell_type": "code",
   "execution_count": 12,
   "metadata": {
    "collapsed": true
   },
   "outputs": [],
   "source": [
    "# add an age column and remod_time, assuming current year is 2018\n",
    "\n",
    "house['age'] = 2018 - house['yearbuilt']\n",
    "house['remod_age']=2018-house['yearremodadd']"
   ]
  },
  {
   "cell_type": "code",
   "execution_count": 13,
   "metadata": {},
   "outputs": [
    {
     "data": {
      "text/plain": [
       "0"
      ]
     },
     "execution_count": 13,
     "metadata": {},
     "output_type": "execute_result"
    }
   ],
   "source": [
    "# final check for duplicate rows\n",
    "house.duplicated().sum()"
   ]
  },
  {
   "cell_type": "code",
   "execution_count": 14,
   "metadata": {
    "collapsed": true
   },
   "outputs": [],
   "source": [
    "house.to_csv('h2.csv')"
   ]
  },
  {
   "cell_type": "code",
   "execution_count": null,
   "metadata": {
    "collapsed": true
   },
   "outputs": [],
   "source": []
  }
 ],
 "metadata": {
  "kernelspec": {
   "display_name": "Python 2",
   "language": "python",
   "name": "python2"
  },
  "language_info": {
   "codemirror_mode": {
    "name": "ipython",
    "version": 2
   },
   "file_extension": ".py",
   "mimetype": "text/x-python",
   "name": "python",
   "nbconvert_exporter": "python",
   "pygments_lexer": "ipython2",
   "version": "2.7.14"
  }
 },
 "nbformat": 4,
 "nbformat_minor": 2
}
